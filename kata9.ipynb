{
 "cells": [
  {
   "cell_type": "markdown",
   "metadata": {},
   "source": [
    "## ejercicio 1  \n",
    "Comienza por crear una función que necesite tres lecturas de combustible y devuelva un informe:"
   ]
  },
  {
   "cell_type": "code",
   "execution_count": 1,
   "metadata": {},
   "outputs": [],
   "source": [
    "\n",
    "def reporteGeneral(tanqueInterno,tanqueExterno, tanqueH):\n",
    "    promedioTotal = (tanqueInterno + tanqueExterno + tanqueH) / 3\n",
    "    return f\"\"\"reporte de combustible:\n",
    "    Promedio total: {promedioTotal}%\n",
    "    Tanque 1: {tanqueInterno}%\n",
    "    Tanque 2: {tanqueExterno}%\n",
    "    Tanque 3: {tanqueH}% \n",
    "    \"\"\"\n"
   ]
  },
  {
   "cell_type": "markdown",
   "metadata": {},
   "source": [
    "Ahora que hemos definido la función de informes, vamos a comprobarlo. Para esta misión, los tanques no están llenos:"
   ]
  },
  {
   "cell_type": "code",
   "execution_count": 2,
   "metadata": {},
   "outputs": [
    {
     "name": "stdout",
     "output_type": "stream",
     "text": [
      "reporte de combustible:\n",
      "    Promedio total: 0.0%\n",
      "    Tanque 1: 0%\n",
      "    Tanque 2: 0%\n",
      "    Tanque 3: 0% \n",
      "    \n"
     ]
    }
   ],
   "source": [
    "print(reporteGeneral(0, 0, 0))"
   ]
  },
  {
   "cell_type": "code",
   "execution_count": 3,
   "metadata": {},
   "outputs": [],
   "source": [
    "def promedio(valores):\n",
    "    total = sum(valores)\n",
    "    cantidad = len(valores)\n",
    "    return total / cantidad"
   ]
  },
  {
   "cell_type": "code",
   "execution_count": 4,
   "metadata": {},
   "outputs": [
    {
     "data": {
      "text/plain": [
       "82.0"
      ]
     },
     "execution_count": 4,
     "metadata": {},
     "output_type": "execute_result"
    }
   ],
   "source": [
    "promedio([80, 85, 81]) "
   ]
  },
  {
   "cell_type": "code",
   "execution_count": 7,
   "metadata": {},
   "outputs": [],
   "source": [
    "def reporteGeneral(tanqueInterno, tanqueExterno, tanqueH):\n",
    "    return f\"\"\"reporte de combustible:\n",
    "    Promedio total: {promedio([tanqueInterno, tanqueExterno, tanqueH])}%\n",
    "    Tanque 1: {tanqueInterno}%\n",
    "    Tanque 2: {tanqueExterno}%\n",
    "    Tanque 3: {tanqueH}% \n",
    "    \"\"\""
   ]
  },
  {
   "cell_type": "code",
   "execution_count": null,
   "metadata": {},
   "outputs": [],
   "source": [
    "print(reporteGeneral(88, 76, 70))"
   ]
  },
  {
   "cell_type": "markdown",
   "metadata": {},
   "source": [
    "## Ejercicio 2"
   ]
  },
  {
   "cell_type": "code",
   "execution_count": 16,
   "metadata": {},
   "outputs": [
    {
     "name": "stdout",
     "output_type": "stream",
     "text": [
      "\n",
      "    Mission a:\t\t\tMarte\n",
      "    Tiempo total de viaje:\t167 minutos\n",
      "    Combustible restante:\t1399900 litros\n",
      "    \n"
     ]
    }
   ],
   "source": [
    "def reporteMision(tiempoLanzamiento, tiempoVuelo, destino, tanqueExterno, tanqueInterno):\n",
    "    return f\"\"\"\n",
    "    Mission a:\\t\\t\\t{destino}\n",
    "    Tiempo total de viaje:\\t{tiempoLanzamiento + tiempoVuelo} minutos\n",
    "    Combustible restante:\\t{tanqueExterno + tanqueInterno} litros\n",
    "    \"\"\"\n",
    "\n",
    "print(reporteMision(12, 155, \"Marte\", 553100, 846800))"
   ]
  },
  {
   "cell_type": "code",
   "execution_count": 20,
   "metadata": {},
   "outputs": [
    {
     "name": "stdout",
     "output_type": "stream",
     "text": [
      "\n",
      "    Mission a:\t\t\t Marte\n",
      "    Tiempo total de viaje:\t 76 minutos\n",
      "    Combustible restante:\t 500000\n",
      "    \n"
     ]
    }
   ],
   "source": [
    "def reporteMision(destino, * minutos, **reservaCombustible):\n",
    "    return f\"\"\"\n",
    "    Mission a:\\t\\t\\t {destino}\n",
    "    Tiempo total de viaje:\\t {sum(minutos)} minutos\n",
    "    Combustible restante:\\t {sum(reservaCombustible.values())}\n",
    "    \"\"\"\n",
    "\n",
    "print(reporteMision(\"Marte\", 10, 15, 51, interno=300000, externo=200000))"
   ]
  },
  {
   "cell_type": "code",
   "execution_count": 24,
   "metadata": {},
   "outputs": [
    {
     "name": "stdout",
     "output_type": "stream",
     "text": [
      "\n",
      "    Mission a:\t\t\t Marte\n",
      "    Tiempo total de viaje:\t 76 minutos\n",
      "    Combustible restante:\t 500000\n",
      "    \n"
     ]
    }
   ],
   "source": [
    "def reporteMision(destino, * minutos, **reservaCombustible):\n",
    "    return f\"\"\"\n",
    "    Mission a:\\t\\t\\t {destino}\n",
    "    Tiempo total de viaje:\\t {sum(minutos)} minutos\n",
    "    Combustible restante:\\t {sum(reservaCombustible.values())}\n",
    "    \"\"\"\n",
    "    for tank_name, gallons in reservaCombustible.items():\n",
    "        main_report += f\"{tank_name} tank --> {gallons} gallons left\\n\"\n",
    "    return main_report\n",
    "\n",
    "print(reporteMision(\"Marte\", 10, 15, 51, interno=300000, externo=200000))"
   ]
  }
 ],
 "metadata": {
  "interpreter": {
   "hash": "e7370f93d1d0cde622a1f8e1c04877d8463912d04d973331ad4851f04de6915a"
  },
  "kernelspec": {
   "display_name": "Python 3.10.2 64-bit",
   "language": "python",
   "name": "python3"
  },
  "language_info": {
   "codemirror_mode": {
    "name": "ipython",
    "version": 3
   },
   "file_extension": ".py",
   "mimetype": "text/x-python",
   "name": "python",
   "nbconvert_exporter": "python",
   "pygments_lexer": "ipython3",
   "version": "3.10.2"
  },
  "orig_nbformat": 4
 },
 "nbformat": 4,
 "nbformat_minor": 2
}

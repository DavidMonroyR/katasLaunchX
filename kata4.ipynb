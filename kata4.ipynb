{
 "cells": [
  {
   "cell_type": "markdown",
   "metadata": {},
   "source": [
    "# Ejercicio 1\n",
    "\n",
    "### Texto inicial"
   ]
  },
  {
   "cell_type": "code",
   "execution_count": 247,
   "metadata": {},
   "outputs": [
    {
     "data": {
      "text/plain": [
       "\"Interesting facts about the Moon. The Moon is Earth's only satellite. There are several interesting facts about the Moon and how it affects life here on Earth average, the Moon moves 4cm away from the Earth every year. This yearly drift is not significant enough to cause immediate effects on Earth. The highest daylight temperature of the Moon is 127 C.\""
      ]
     },
     "execution_count": 247,
     "metadata": {},
     "output_type": "execute_result"
    }
   ],
   "source": [
    "texto = \"\"\"Interesting facts about the Moon. The Moon is Earth's only satellite. There are several interesting facts about the Moon and how it affects life here on Earth average, the Moon moves 4cm away from the Earth every year. This yearly drift is not significant enough to cause immediate effects on Earth. The highest daylight temperature of the Moon is 127 C.\"\"\"\n",
    "texto"
   ]
  },
  {
   "cell_type": "markdown",
   "metadata": {},
   "source": [
    "### Divide el texto en cada oración para trabajar con su contenido:"
   ]
  },
  {
   "cell_type": "code",
   "execution_count": 248,
   "metadata": {},
   "outputs": [
    {
     "name": "stdout",
     "output_type": "stream",
     "text": [
      "Interesting facts about the Moon\n",
      "\n",
      "The Moon is Earth's only satellite\n",
      "\n",
      "There are several interesting facts about the Moon and how it affects life here on Earth average, the Moon moves 4cm away from the Earth every year\n",
      "\n",
      "This yearly drift is not significant enough to cause immediate effects on Earth\n",
      "\n",
      "The highest daylight temperature of the Moon is 127 C.\n",
      "\n"
     ]
    }
   ],
   "source": [
    "oraciones = texto.split('. ')\n",
    "for oracion in oraciones:\n",
    "    print(oracion + '\\n')"
   ]
  },
  {
   "cell_type": "markdown",
   "metadata": {},
   "source": [
    "### Define algunas palabras clave para búsqueda que te ayudarán a determinar si una oración contiene un hecho.\n",
    "## (average, temperature y distance)"
   ]
  },
  {
   "cell_type": "code",
   "execution_count": 249,
   "metadata": {},
   "outputs": [],
   "source": [
    "palabrasClave = ['average', 'temperature', 'distance']"
   ]
  },
  {
   "cell_type": "markdown",
   "metadata": {},
   "source": [
    "### Crea un bucle para imprimir solo datos sobre la Luna que estén relacionados con las palabras clave definidas anteriormente:"
   ]
  },
  {
   "cell_type": "code",
   "execution_count": 250,
   "metadata": {},
   "outputs": [
    {
     "name": "stdout",
     "output_type": "stream",
     "text": [
      "['There are several interesting facts about the Moon and how it affects life here on Earth average, the Moon moves 4cm away from the Earth every year', 'The highest daylight temperature of the Moon is 127 C.']\n"
     ]
    }
   ],
   "source": [
    "resumen = []\n",
    "for filtro in oraciones:\n",
    "    for palabraClave in palabrasClave:\n",
    "        if palabraClave in filtro.lower():\n",
    "            resumen.append(filtro)\n",
    "            break\n",
    "print (resumen)\n",
    "\n",
    "\n"
   ]
  },
  {
   "cell_type": "markdown",
   "metadata": {},
   "source": [
    "### Actualiza el bucle(ciclo) para cambiar C a Celsius:"
   ]
  },
  {
   "cell_type": "code",
   "execution_count": 251,
   "metadata": {},
   "outputs": [
    {
     "name": "stdout",
     "output_type": "stream",
     "text": [
      "['There are several interesting facts about the Moon and how it affects life here on Earth average, the Moon moves 4cm away from the Earth every year', 'The highest daylight temperature of the Moon is 127 Celsius.']\n"
     ]
    }
   ],
   "source": [
    "resumen = []\n",
    "for filtro in oraciones:\n",
    "    for palabraClave in palabrasClave:\n",
    "        if palabraClave in filtro:\n",
    "            resumen.append(filtro.replace(' C', ' Celsius'))\n",
    "            break\n",
    "print (resumen)"
   ]
  },
  {
   "cell_type": "markdown",
   "metadata": {},
   "source": [
    "# Ejercicio 2:Dar formato a cadenas \n",
    "\n",
    "### Datos con los que vamos a trabajar\n",
    "\n",
    "    planeta   =  Marte  \n",
    "    gravedad  =  0.00143  \n",
    "    nombre    =  Ganímedes  \n"
   ]
  },
  {
   "cell_type": "code",
   "execution_count": 252,
   "metadata": {},
   "outputs": [],
   "source": [
    "planeta = 'Jupiter '\n",
    "gravedad  = 0.001428\n",
    "nombre = 'Ganímedes'"
   ]
  },
  {
   "cell_type": "markdown",
   "metadata": {},
   "source": [
    "## Titulo"
   ]
  },
  {
   "cell_type": "code",
   "execution_count": 253,
   "metadata": {},
   "outputs": [],
   "source": [
    "titulo = f'Informacion de gravedad en {nombre}'"
   ]
  },
  {
   "cell_type": "markdown",
   "metadata": {},
   "source": [
    "## Plantilla"
   ]
  },
  {
   "cell_type": "code",
   "execution_count": 254,
   "metadata": {},
   "outputs": [],
   "source": [
    "contenido = f'''{'-'*40} \n",
    "Nombre del planeta:\\t{planeta} \n",
    "Gravedad en {nombre}:\\t{gravedad * 1000:.3f}m/s^2 \n",
    "'''"
   ]
  },
  {
   "cell_type": "markdown",
   "metadata": {},
   "source": [
    "## Unión de cadenas"
   ]
  },
  {
   "cell_type": "code",
   "execution_count": 255,
   "metadata": {},
   "outputs": [
    {
     "name": "stdout",
     "output_type": "stream",
     "text": [
      "Informacion De Gravedad En Ganímedes\n",
      "---------------------------------------- \n",
      "Nombre del planeta:\tJupiter  \n",
      "Gravedad en Ganímedes:\t1.428m/s^2 \n",
      "\n"
     ]
    }
   ],
   "source": [
    "documento = titulo.title() + '\\n' + contenido\n",
    "print(documento)"
   ]
  },
  {
   "cell_type": "markdown",
   "metadata": {},
   "source": [
    "## Nuevos datos\n",
    "    planeta   =  Saturno  \n",
    "    gravedad  =  0.000145  \n",
    "    nombre    =  Tetis\n"
   ]
  },
  {
   "cell_type": "code",
   "execution_count": 256,
   "metadata": {},
   "outputs": [],
   "source": [
    "planeta = 'Saturno '\n",
    "gravedad  = 0.000145\n",
    "nombre = 'Tetis'"
   ]
  },
  {
   "cell_type": "markdown",
   "metadata": {},
   "source": [
    "## Nueva plantilla"
   ]
  },
  {
   "cell_type": "code",
   "execution_count": 257,
   "metadata": {},
   "outputs": [
    {
     "name": "stdout",
     "output_type": "stream",
     "text": [
      "\n",
      "Información De Gravedad en: Tetis\n",
      "---------------------------------------- \n",
      "Nombre del planeta:\tSaturno \n",
      "Gravedad en Tetis:\t0.145 m/s2\n",
      "\n"
     ]
    }
   ],
   "source": [
    "nuevaPlantilla = '''\n",
    "Información De Gravedad en: {nombre}\n",
    "{linea} \n",
    "Nombre del planeta:\\t{planeta}\n",
    "Gravedad en {nombre}:\\t{gravedad} m/s2\n",
    "'''\n",
    "print(nuevaPlantilla.format(nombre=nombre, planeta=planeta, gravedad=gravedad*1000, linea = '-'*40 ))"
   ]
  },
  {
   "cell_type": "code",
   "execution_count": 258,
   "metadata": {},
   "outputs": [
    {
     "name": "stdout",
     "output_type": "stream",
     "text": [
      "\n",
      "Información De Gravedad en: Tetis\n",
      "---------------------------------------- \n",
      "Nombre del planeta:\tSaturno \n",
      "Gravedad en Tetis:\t0.145 m/s2\n",
      "\n"
     ]
    }
   ],
   "source": [
    "print(nuevaPlantilla.format(nombre=nombre, planeta=planeta, gravedad=gravedad*1000, linea = '-'*40 ))"
   ]
  }
 ],
 "metadata": {
  "interpreter": {
   "hash": "e7370f93d1d0cde622a1f8e1c04877d8463912d04d973331ad4851f04de6915a"
  },
  "kernelspec": {
   "display_name": "Python 3.10.2 64-bit",
   "language": "python",
   "name": "python3"
  },
  "language_info": {
   "codemirror_mode": {
    "name": "ipython",
    "version": 3
   },
   "file_extension": ".py",
   "mimetype": "text/x-python",
   "name": "python",
   "nbconvert_exporter": "python",
   "pygments_lexer": "ipython3",
   "version": "3.10.2"
  },
  "orig_nbformat": 4
 },
 "nbformat": 4,
 "nbformat_minor": 2
}
